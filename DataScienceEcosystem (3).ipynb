{
 "cells": [
  {
   "cell_type": "markdown",
   "id": "78fd62b9-afd0-45bc-8d01-006daa394e8a",
   "metadata": {},
   "source": [
    "# Data Science Tools and Ecosystem"
   ]
  },
  {
   "cell_type": "markdown",
   "id": "be952325-a7a9-4af3-9c35-5ff0e73ea767",
   "metadata": {},
   "source": [
    "In this notebook, Data Science Tools and Ecosystem are summarized"
   ]
  },
  {
   "cell_type": "markdown",
   "id": "d9f2f865-a80f-4967-8a25-7f6966ff6483",
   "metadata": {},
   "source": [
    "**Objectives**\n",
    "- List popular languages for data science\n",
    "- List some commonly used libraries in data science\n",
    "- List data science tools"
   ]
  },
  {
   "cell_type": "markdown",
   "id": "61751c19-4cd9-4810-892d-daea14e16d4b",
   "metadata": {},
   "source": [
    "Some of the popular languages that Data Scientists use are:\n",
    "1. Python\n",
    "2. R\n",
    "3. Julia"
   ]
  },
  {
   "cell_type": "markdown",
   "id": "7608afd5-7acf-429d-86ce-643d382d98ba",
   "metadata": {
    "tags": []
   },
   "source": [
    "Some of the commonly used libraries used by Data Scientists include:\n",
    "1. NumPy\n",
    "2. Pandas\n",
    "3. Scikit"
   ]
  },
  {
   "cell_type": "markdown",
   "id": "9f0c2cf8-b33d-4ba5-8aea-6faaaa713de0",
   "metadata": {},
   "source": [
    "|Data Science Tools|\n",
    "|------------------|\n",
    "|Jupyter Notebooks|\n",
    "|RStudio|\n",
    "|VS Code|"
   ]
  },
  {
   "cell_type": "markdown",
   "id": "b79f9d03-c983-4474-b37c-10b599acb46c",
   "metadata": {},
   "source": [
    "### Below are a few examples of evaluating arithmetic expressions in Python"
   ]
  },
  {
   "cell_type": "code",
   "execution_count": 3,
   "id": "c0ea9e13-123f-4fb7-b74d-f20d51bb39f4",
   "metadata": {
    "tags": []
   },
   "outputs": [
    {
     "data": {
      "text/plain": [
       "17"
      ]
     },
     "execution_count": 3,
     "metadata": {},
     "output_type": "execute_result"
    }
   ],
   "source": [
    "# This a simple arithmetic expression to mutiply then add integers\n",
    "(3*4)+5\n"
   ]
  },
  {
   "cell_type": "code",
   "execution_count": 7,
   "id": "003c9a55-8e2f-4e66-adb1-0f5834beb7d4",
   "metadata": {
    "tags": []
   },
   "outputs": [
    {
     "name": "stdout",
     "output_type": "stream",
     "text": [
      "3.3333333333333335\n"
     ]
    }
   ],
   "source": [
    "# This code will convert 200 minutes to hours\n",
    "minutes = 200\n",
    "hours = minutes / 60\n",
    "print(hours)"
   ]
  },
  {
   "cell_type": "markdown",
   "id": "657ac1d9-31e9-4a43-9a7d-801597e133c7",
   "metadata": {},
   "source": [
    "## Author\n",
    "Mohammed Aiman Khan"
   ]
  }
 ],
 "metadata": {
  "kernelspec": {
   "display_name": "Python",
   "language": "python",
   "name": "conda-env-python-py"
  },
  "language_info": {
   "codemirror_mode": {
    "name": "ipython",
    "version": 3
   },
   "file_extension": ".py",
   "mimetype": "text/x-python",
   "name": "python",
   "nbconvert_exporter": "python",
   "pygments_lexer": "ipython3",
   "version": "3.7.12"
  }
 },
 "nbformat": 4,
 "nbformat_minor": 5
}
